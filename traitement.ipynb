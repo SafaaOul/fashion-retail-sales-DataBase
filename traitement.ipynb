{
 "cells": [
  {
   "cell_type": "code",
   "execution_count": null,
   "metadata": {},
   "outputs": [],
   "source": [
    "import pandas as pd\n",
    "from datetime import datetime\n",
    "from unidecode import unidecode"
   ]
  },
  {
   "cell_type": "markdown",
   "metadata": {},
   "source": [
    "#### Dimension Customers"
   ]
  },
  {
   "cell_type": "code",
   "execution_count": null,
   "metadata": {},
   "outputs": [],
   "source": [
    "# Lit et affiche le contenu de l'ancien fichier discount.csv\n",
    "\n",
    "data = pd.read_csv('Old_Data/customers.csv', sep=\",\")\n",
    "data.head()"
   ]
  },
  {
   "cell_type": "code",
   "execution_count": null,
   "metadata": {},
   "outputs": [],
   "source": [
    "df_Customers = data[['Customer ID', 'City', 'Country', 'Gender', 'Date Of Birth']]\n",
    "df_Customers.head()"
   ]
  },
  {
   "cell_type": "code",
   "execution_count": null,
   "metadata": {},
   "outputs": [],
   "source": [
    "df_Customers['Date Of Birth'] = pd.to_datetime(df_Customers['Date Of Birth'])\n",
    "current_date = datetime.now()\n",
    "df_Customers['Age'] = df_Customers['Date Of Birth'].apply(lambda x: current_date.year - x.year - ((current_date.month, current_date.day) < (x.month, x.day)))\n",
    "df_Customers = df_Customers.drop(columns=['Date Of Birth'])"
   ]
  },
  {
   "cell_type": "code",
   "execution_count": null,
   "metadata": {},
   "outputs": [],
   "source": [
    "# Traduction de l'ensemble des mots rédigés avec des caractères sinogrammes\n",
    "\n",
    "df_Customers['Country'] = df_Customers['Country'].replace('中国', 'China')\n",
    "\n",
    "df_Customers['City'] = df_Customers['City'].replace('上海', 'Shanghai')\n",
    "df_Customers['City'] = df_Customers['City'].replace('浦东', 'Pudong')\n",
    "df_Customers['City'] = df_Customers['City'].replace('虹口', 'Hongkou')\n",
    "df_Customers['City'] = df_Customers['City'].replace('宝山', 'Baoshan')\n",
    "df_Customers['City'] = df_Customers['City'].replace('闵行', 'Minhang')\n",
    "df_Customers['City'] = df_Customers['City'].replace('嘉定', 'Jiading')\n",
    "df_Customers['City'] = df_Customers['City'].replace('苏州（江苏省）', 'Suzhou')\n",
    "df_Customers['City'] = df_Customers['City'].replace('昆山', 'Kunshan')\n",
    "df_Customers['City'] = df_Customers['City'].replace('无锡', 'Wuxi')\n",
    "df_Customers['City'] = df_Customers['City'].replace('太仓', 'Taicang')\n",
    "df_Customers['City'] = df_Customers['City'].replace('南通', 'Nantong')\n",
    "df_Customers['City'] = df_Customers['City'].replace('嘉兴', 'Jiaxing')\n",
    "df_Customers['City'] = df_Customers['City'].replace('杭州', 'Hangzhou')\n",
    "df_Customers['City'] = df_Customers['City'].replace('北京', 'Pékin')\n",
    "df_Customers['City'] = df_Customers['City'].replace('海淀', 'Haidian')\n",
    "df_Customers['City'] = df_Customers['City'].replace('朝阳', 'Chaoyang')\n",
    "df_Customers['City'] = df_Customers['City'].replace('丰台', 'Fengtai')\n",
    "df_Customers['City'] = df_Customers['City'].replace('通州', 'Tongzhou')\n",
    "df_Customers['City'] = df_Customers['City'].replace('石家庄', 'Shijiazhuang')\n",
    "df_Customers['City'] = df_Customers['City'].replace('天津', 'Tianjin')\n",
    "df_Customers['City'] = df_Customers['City'].replace('廊坊', 'Langfang')\n",
    "df_Customers['City'] = df_Customers['City'].replace('保定', 'Baoding')\n",
    "df_Customers['City'] = df_Customers['City'].replace('承德', 'Chengde')\n",
    "df_Customers['City'] = df_Customers['City'].replace('张家口', 'Zhangjiakou')\n",
    "df_Customers['City'] = df_Customers['City'].replace('广州', 'Guangzhou')\n",
    "df_Customers['City'] = df_Customers['City'].replace('天河', 'Tianhe')\n",
    "df_Customers['City'] = df_Customers['City'].replace('白云', 'Baiyun')\n",
    "df_Customers['City'] = df_Customers['City'].replace('越秀', 'Yuexiu')\n",
    "df_Customers['City'] = df_Customers['City'].replace('佛山', 'Foshan')\n",
    "df_Customers['City'] = df_Customers['City'].replace('东莞', 'Dongguan')\n",
    "df_Customers['City'] = df_Customers['City'].replace('深圳', 'Shenzhen')\n",
    "df_Customers['City'] = df_Customers['City'].replace('中山', 'Zhongshan')\n",
    "df_Customers['City'] = df_Customers['City'].replace('珠海', 'Zhuhai')\n",
    "df_Customers['City'] = df_Customers['City'].replace('惠州', 'Huizhou')\n",
    "df_Customers['City'] = df_Customers['City'].replace('清远', 'Qingyuan')\n",
    "df_Customers['City'] = df_Customers['City'].replace('福田', 'Futian')\n",
    "df_Customers['City'] = df_Customers['City'].replace('南山', 'Nanshan')\n",
    "df_Customers['City'] = df_Customers['City'].replace('宝安', 'Bao\\'an')\n",
    "df_Customers['City'] = df_Customers['City'].replace('龙岗', 'Longgang')\n",
    "df_Customers['City'] = df_Customers['City'].replace('香港', 'Hong Kong')\n",
    "df_Customers['City'] = df_Customers['City'].replace('澳门', 'Macao')\n",
    "df_Customers['City'] = df_Customers['City'].replace('重庆', 'Chongqing')\n",
    "df_Customers['City'] = df_Customers['City'].replace('渝中', 'Yuzhong')\n",
    "df_Customers['City'] = df_Customers['City'].replace('江北', 'Jiangbei')\n",
    "df_Customers['City'] = df_Customers['City'].replace('沙坪坝', 'Shapingba')\n",
    "df_Customers['City'] = df_Customers['City'].replace('渝北', 'Yubei')\n",
    "df_Customers['City'] = df_Customers['City'].replace('涪陵', 'Fuling')\n",
    "df_Customers['City'] = df_Customers['City'].replace('万州', 'Wanzhou')\n",
    "df_Customers['City'] = df_Customers['City'].replace('黔江', 'Qianjiang')\n",
    "df_Customers['City'] = df_Customers['City'].replace('大足', 'Dazu')\n",
    "df_Customers['City'] = df_Customers['City'].replace('璧山', 'Bishan')\n",
    "df_Customers['City'] = df_Customers['City'].replace('合川', 'Hechuan')\n",
    "df_Customers['City'] = df_Customers['City'].replace('成都', 'Chengdu')\n",
    "df_Customers['City'] = df_Customers['City'].replace('锦江', 'Jinjiang')\n",
    "df_Customers['City'] = df_Customers['City'].replace('青羊', 'Qingyang')\n",
    "df_Customers['City'] = df_Customers['City'].replace('武侯', 'Wuhou')\n",
    "df_Customers['City'] = df_Customers['City'].replace('龙泉驿', 'Longquanyi')\n",
    "df_Customers['City'] = df_Customers['City'].replace('双流', 'Shuangliu')\n",
    "df_Customers['City'] = df_Customers['City'].replace('德阳', 'Deyang')\n",
    "df_Customers['City'] = df_Customers['City'].replace('绵阳', 'Mianyang')\n",
    "df_Customers['City'] = df_Customers['City'].replace('乐山', 'Leshan')\n",
    "df_Customers['City'] = df_Customers['City'].replace('眉山', 'Meishan')\n",
    "df_Customers['City'] = df_Customers['City'].replace('资阳', 'Ziyang')\n",
    "df_Customers['City'] = df_Customers['City'].replace('和平', 'Heping')\n",
    "df_Customers['City'] = df_Customers['City'].replace('河东', 'Hedong')\n",
    "df_Customers['City'] = df_Customers['City'].replace('河西', 'Hexi')\n",
    "df_Customers['City'] = df_Customers['City'].replace('南开', 'Nankai')\n",
    "df_Customers['City'] = df_Customers['City'].replace('滨海', 'Binhai')\n",
    "df_Customers['City'] = df_Customers['City'].replace('唐山', 'Tangshan')\n",
    "df_Customers['City'] = df_Customers['City'].replace('沧州', 'Cangzhou')\n",
    "df_Customers['City'] = df_Customers['City'].replace('秦皇岛', 'Qinhuangdao')\n",
    "df_Customers['City'] = df_Customers['City'].replace('西安', 'Xi\\'an')\n",
    "df_Customers['City'] = df_Customers['City'].replace('碑林', 'Beilin')\n",
    "df_Customers['City'] = df_Customers['City'].replace('莲湖', 'Lianhu')\n",
    "df_Customers['City'] = df_Customers['City'].replace('新城', 'Xincheng')\n",
    "df_Customers['City'] = df_Customers['City'].replace('雁塔', 'Yanta')\n",
    "df_Customers['City'] = df_Customers['City'].replace('长安', 'Chang\\'an')\n",
    "df_Customers['City'] = df_Customers['City'].replace('咸阳', 'Xianyang')\n",
    "df_Customers['City'] = df_Customers['City'].replace('渭南', 'Weinan')\n",
    "df_Customers['City'] = df_Customers['City'].replace('宝鸡', 'Baoji')\n",
    "df_Customers['City'] = df_Customers['City'].replace('铜川', 'Tongchuan')\n",
    "df_Customers['City'] = df_Customers['City'].replace('汉中', 'Hanzhong')\n",
    "df_Customers['City'] = df_Customers['City'].replace('武汉', 'Wuhan')\n",
    "df_Customers['City'] = df_Customers['City'].replace('江岸', 'Jiang\\'an')\n",
    "df_Customers['City'] = df_Customers['City'].replace('江汉', 'Jianghan')\n",
    "df_Customers['City'] = df_Customers['City'].replace('硚口', 'Qiaokou')\n",
    "df_Customers['City'] = df_Customers['City'].replace('汉阳', 'Hanyang')\n",
    "df_Customers['City'] = df_Customers['City'].replace('武昌', 'Wuchang')\n",
    "df_Customers['City'] = df_Customers['City'].replace('黄陂', 'Huangpi')\n",
    "df_Customers['City'] = df_Customers['City'].replace('新洲', 'Xinzhou')\n",
    "df_Customers['City'] = df_Customers['City'].replace('鄂州', 'Ezhou')\n",
    "df_Customers['City'] = df_Customers['City'].replace('黄冈', 'Huanggang')\n",
    "df_Customers['City'] = df_Customers['City'].replace('咸宁', 'Xianning')\n",
    "df_Customers['City'] = df_Customers['City'].replace('苏州', 'Suzhou')\n",
    "df_Customers['City'] = df_Customers['City'].replace('姑苏', 'Gusu')\n",
    "df_Customers['City'] = df_Customers['City'].replace('虎丘', 'Huqiu')\n",
    "df_Customers['City'] = df_Customers['City'].replace('吴中', 'Wuzhong')\n",
    "df_Customers['City'] = df_Customers['City'].replace('相城', 'Xiangcheng')\n",
    "df_Customers['City'] = df_Customers['City'].replace('常熟', 'Changshu')\n",
    "df_Customers['City'] = df_Customers['City'].replace('张家港', 'Zhangjiagang')"
   ]
  },
  {
   "cell_type": "code",
   "execution_count": null,
   "metadata": {},
   "outputs": [],
   "source": [
    "df_Customers['Country'] = df_Customers['Country'].replace('España', 'Spain')\n",
    "df_Customers['City'] = df_Customers['City'].apply(lambda x: unidecode(x))"
   ]
  },
  {
   "cell_type": "code",
   "execution_count": null,
   "metadata": {},
   "outputs": [],
   "source": [
    "df_Customers.head()"
   ]
  },
  {
   "cell_type": "code",
   "execution_count": null,
   "metadata": {},
   "outputs": [],
   "source": [
    "# Écriture des données traités dans un nouveau fichier discounts.csv\n",
    "\n",
    "df_Customers.to_csv(\"Data/customers.csv\", index=False)"
   ]
  },
  {
   "cell_type": "markdown",
   "metadata": {},
   "source": [
    "#### Dimension Discounts"
   ]
  },
  {
   "cell_type": "code",
   "execution_count": null,
   "metadata": {},
   "outputs": [],
   "source": [
    "# Lit et affiche le contenu de l'ancien fichier discount.csv\n",
    "\n",
    "data = pd.read_csv('Old_Data/discounts.csv', sep=\",\")\n",
    "data.head()"
   ]
  },
  {
   "cell_type": "code",
   "execution_count": null,
   "metadata": {},
   "outputs": [],
   "source": [
    "# Récupération des champs utiles, suppression des doublons et génération de la clé primaire\n",
    "\n",
    "df_Discounts = data[['Start', 'End', 'Discont', 'Category', 'Sub Category']]    \n",
    "df_Discounts = df_Discounts.drop_duplicates()\n",
    "df_Discounts = df_Discounts.reset_index(drop=True)\n",
    "df_Discounts['Discount Key'] = df_Discounts.index +1"
   ]
  },
  {
   "cell_type": "code",
   "execution_count": null,
   "metadata": {},
   "outputs": [],
   "source": [
    "# Création d'une copie du Dataframe pour supprimer les champs inutiles\n",
    "\n",
    "df_Discounts_copy = df_Discounts.copy()\n",
    "df_Discounts_copy = df_Discounts_copy.rename(columns={'Discont': 'Percent_discount'})\n",
    "df_Discounts_copy.drop(['Category','Sub Category'], axis=1, inplace=True)"
   ]
  },
  {
   "cell_type": "code",
   "execution_count": null,
   "metadata": {},
   "outputs": [],
   "source": [
    "# Affichage des données traitées\n",
    "\n",
    "df_Discounts_copy.head()"
   ]
  },
  {
   "cell_type": "code",
   "execution_count": null,
   "metadata": {},
   "outputs": [],
   "source": [
    "# Écriture des données traités dans un nouveau fichier discounts.csv\n",
    "\n",
    "df_Discounts_copy.to_csv(\"Data/discounts.csv\", index=False)"
   ]
  },
  {
   "cell_type": "markdown",
   "metadata": {},
   "source": [
    "#### Dimension Stores"
   ]
  },
  {
   "cell_type": "code",
   "execution_count": null,
   "metadata": {},
   "outputs": [],
   "source": [
    "# Lit et affiche le contenu de l'ancien fichier stores.csv\n",
    "\n",
    "data = pd.read_csv('Old_Data/stores.csv', sep=\",\")\n",
    "data.head()"
   ]
  },
  {
   "cell_type": "code",
   "execution_count": null,
   "metadata": {},
   "outputs": [],
   "source": [
    "# Récupération des champs utiles et suppression des doublons\n",
    "\n",
    "df_Stores = data[['Store ID', 'Store Name', 'City', 'Country', 'ZIP Code', 'Latitude', 'Longitude']]\n",
    "\n",
    "df_Stores['Country'] = df_Stores['Country'].replace('中国', 'China')\n",
    "\n",
    "df_Stores['City'] = df_Stores['City'].replace('上海', 'Shanghai')\n",
    "df_Stores['City'] = df_Stores['City'].replace('北京', 'Pékin')\n",
    "df_Stores['City'] = df_Stores['City'].replace('广州', 'Canton')\n",
    "df_Stores['City'] = df_Stores['City'].replace('深圳', 'Shenzhen')\n",
    "df_Stores['City'] = df_Stores['City'].replace('重庆', 'Chongqing')\n",
    "\n",
    "df_Stores['Store Name'] = df_Stores['Store Name'].replace('Store 上海', 'Store Shanghai')\n",
    "df_Stores['Store Name'] = df_Stores['Store Name'].replace('Store 北京', 'Store Pékin')\n",
    "df_Stores['Store Name'] = df_Stores['Store Name'].replace('Store 广州', 'Store Canton')\n",
    "df_Stores['Store Name'] = df_Stores['Store Name'].replace('Store 深圳', 'Store Shenzhen')\n",
    "df_Stores['Store Name'] = df_Stores['Store Name'].replace('Store 重庆', 'Store Chongqing')\n",
    "\n",
    "df_Stores['Country'] = df_Stores['Country'].replace('España', 'Spain')\n",
    "df_Stores['City'] = df_Stores['City'].apply(lambda x: unidecode(x))\n",
    "df_Stores['Store Name'] = df_Stores['Store Name'].apply(lambda x: unidecode(x))\n",
    "\n",
    "df_Stores = df_Stores.drop_duplicates()"
   ]
  },
  {
   "cell_type": "code",
   "execution_count": null,
   "metadata": {},
   "outputs": [],
   "source": [
    "# Affichage des données traitées\n",
    "\n",
    "df_Stores.head()"
   ]
  },
  {
   "cell_type": "code",
   "execution_count": null,
   "metadata": {},
   "outputs": [],
   "source": [
    "# Écriture des données traités dans un nouveau fichier stores.csv\n",
    "\n",
    "df_Stores.to_csv(\"Data/stores.csv\", index=False)"
   ]
  },
  {
   "cell_type": "markdown",
   "metadata": {},
   "source": [
    "#### Dimension Products"
   ]
  },
  {
   "cell_type": "code",
   "execution_count": null,
   "metadata": {},
   "outputs": [],
   "source": [
    "# Lit et affiche le contenu de l'ancien fichier products.csv\n",
    "\n",
    "data = pd.read_csv('Old_Data/products.csv', sep=\",\")\n",
    "data.head()"
   ]
  },
  {
   "cell_type": "code",
   "execution_count": null,
   "metadata": {},
   "outputs": [],
   "source": [
    "# Récupération des champs utiles, suppression des caractères spéciaux dans la description et suppression des doublons\n",
    "\n",
    "df_Products = data[['Product ID','Category', 'Sub Category', 'Description FR', 'Sizes', 'Production Cost']]\n",
    "df_Products['Description FR'] = df_Products['Description FR'].apply(lambda x: unidecode(x))\n",
    "df_Products = df_Products.drop_duplicates()"
   ]
  },
  {
   "cell_type": "code",
   "execution_count": null,
   "metadata": {},
   "outputs": [],
   "source": [
    "# Affichage des données traitées\n",
    "\n",
    "df_Products.head()"
   ]
  },
  {
   "cell_type": "code",
   "execution_count": null,
   "metadata": {},
   "outputs": [],
   "source": [
    "# Écriture des données traités dans un nouveau fichier products.csv\n",
    "\n",
    "df_Products.to_csv(\"Data/products.csv\", index=False)"
   ]
  },
  {
   "cell_type": "markdown",
   "metadata": {},
   "source": [
    "#### Dimension Date"
   ]
  },
  {
   "cell_type": "code",
   "execution_count": null,
   "metadata": {},
   "outputs": [],
   "source": [
    "# Lit et affiche le contenu de l'ancien fichier transactions.csv\n",
    "\n",
    "data = pd.read_csv('Old_Data/transactions.csv', sep=\",\")\n",
    "data.head()"
   ]
  },
  {
   "cell_type": "code",
   "execution_count": null,
   "metadata": {},
   "outputs": [],
   "source": [
    "# Récupération de la date, suppression des doublons et génération de la clé primaire\n",
    "\n",
    "data['Date'] = pd.to_datetime(data['Date'])\n",
    "df_Date = data[['Date']] \n",
    "df_Date = df_Date.drop_duplicates()\n",
    "df_Date = df_Date.reset_index(drop=True)\n",
    "df_Date['Date Key'] = df_Date.index +1"
   ]
  },
  {
   "cell_type": "code",
   "execution_count": null,
   "metadata": {},
   "outputs": [],
   "source": [
    "# Extraction d'information de la date pour générer de nouveaux champs\n",
    "\n",
    "df_Date\n",
    "df_Date[''] = df_Date['Date'].dt.date\n",
    "df_Date['Year'] = df_Date['Date'].dt.year\n",
    "df_Date['Month'] = df_Date['Date'].dt.month\n",
    "df_Date['Day'] = df_Date['Date'].dt.day\n",
    "df_Date['Hour'] = df_Date['Date'].dt.hour\n",
    "df_Date['DayOfWeek'] = df_Date['Date'].dt.dayofweek + 1\n",
    "df_Date['WeekOfYear'] = df_Date['Date'].dt.isocalendar().week  "
   ]
  },
  {
   "cell_type": "code",
   "execution_count": null,
   "metadata": {},
   "outputs": [],
   "source": [
    "# Affichage des données traitées\n",
    "\n",
    "df_Date.head()"
   ]
  },
  {
   "cell_type": "code",
   "execution_count": null,
   "metadata": {},
   "outputs": [],
   "source": [
    "# Écriture des données traités dans un nouveau fichier date.csv\n",
    "\n",
    "df_Date.to_csv(\"Data/date.csv\", index=False)"
   ]
  },
  {
   "cell_type": "markdown",
   "metadata": {},
   "source": [
    "#### Table de Fait"
   ]
  },
  {
   "cell_type": "code",
   "execution_count": null,
   "metadata": {},
   "outputs": [],
   "source": [
    "# Récupération des champs utiles et suppression des doublons\n",
    "\n",
    "df_Transactions = data[['Product ID', 'Store ID', 'Customer ID', 'Quantity', 'Unit Price', 'Line Total', 'Transaction Type', 'Date']]    "
   ]
  },
  {
   "cell_type": "code",
   "execution_count": null,
   "metadata": {},
   "outputs": [],
   "source": [
    "# Affichage des données traitées\n",
    "\n",
    "df_Transactions.head()"
   ]
  },
  {
   "cell_type": "markdown",
   "metadata": {},
   "source": [
    "#### Réalisation des jointures"
   ]
  },
  {
   "cell_type": "code",
   "execution_count": null,
   "metadata": {},
   "outputs": [],
   "source": [
    "# Jointure des Dataframes Transactions et Date dans la Table de Jointure\n",
    "\n",
    "table_joint = pd.merge(df_Transactions, df_Date, on='Date', how='inner')\n",
    "table_joint.head()"
   ]
  },
  {
   "cell_type": "code",
   "execution_count": null,
   "metadata": {},
   "outputs": [],
   "source": [
    "# Jointure du DataFrame Products avec la table de Jointure et supression des champs inutiles\n",
    "\n",
    "table_joint2 = pd.merge(table_joint, df_Products, on='Product ID', how='inner')\n",
    "table_joint2.drop(['Description FR','Sizes', 'Production Cost'], axis=1, inplace=True)\n",
    "table_joint2.head()"
   ]
  },
  {
   "cell_type": "code",
   "execution_count": null,
   "metadata": {},
   "outputs": [],
   "source": [
    "# Jointure du DataFrame Discounts avec la table de Jointure\n",
    "# Éxécution longue (60s)\n",
    "\n",
    "table_joint3 = pd.merge(table_joint2, df_Discounts, on=['Category','Sub Category'], how='inner')\n",
    "table_joint3.head()"
   ]
  },
  {
   "cell_type": "code",
   "execution_count": null,
   "metadata": {},
   "outputs": [],
   "source": [
    "# Affichage de la taille de la table de Jointure\n",
    "\n",
    "table_joint3.shape"
   ]
  },
  {
   "cell_type": "code",
   "execution_count": null,
   "metadata": {},
   "outputs": [],
   "source": [
    "# Filtre du DataFrame de la table de Jointure pour ne garder que celle dont la date de la transaction appartient à la plage de la Promotion\n",
    "\n",
    "df_Transactions = table_joint3[\n",
    "    (table_joint3['Date'] >= table_joint3['Start']) &\n",
    "    (table_joint3['Date'] <= table_joint3['End'])\n",
    "]"
   ]
  },
  {
   "cell_type": "code",
   "execution_count": null,
   "metadata": {},
   "outputs": [],
   "source": [
    "# Suppression de tout les champs qui ne sont plus utiles dans la table de Fait et Création de la clé primaire\n",
    "\n",
    "df_Transactions.drop(['Date','Start', 'End', 'Discont', 'Category', 'Sub Category'], axis=1, inplace=True)\n",
    "df_Transactions = df_Transactions.reset_index(drop=True)\n",
    "df_Transactions['Transactions Key'] = df_Transactions.index +1\n",
    "df_Transactions.head()"
   ]
  },
  {
   "cell_type": "code",
   "execution_count": null,
   "metadata": {},
   "outputs": [],
   "source": [
    "# Affichage de la taille de la table de jointure pour constater la suppression de toute les lignes et colonnes inutiles\n",
    "\n",
    "df_Transactions.shape"
   ]
  },
  {
   "cell_type": "code",
   "execution_count": null,
   "metadata": {},
   "outputs": [],
   "source": [
    "# Écriture des données traités dans un nouveau fichier transactions.csv\n",
    "\n",
    "df_Transactions.to_csv(\"Data/transactions.csv\", index=False)"
   ]
  }
 ],
 "metadata": {
  "kernelspec": {
   "display_name": ".venv",
   "language": "python",
   "name": "python3"
  },
  "language_info": {
   "codemirror_mode": {
    "name": "ipython",
    "version": 3
   },
   "file_extension": ".py",
   "mimetype": "text/x-python",
   "name": "python",
   "nbconvert_exporter": "python",
   "pygments_lexer": "ipython3",
   "version": "3.12.7"
  }
 },
 "nbformat": 4,
 "nbformat_minor": 2
}
