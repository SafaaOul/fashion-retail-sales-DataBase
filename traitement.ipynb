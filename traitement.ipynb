{
 "cells": [
  {
   "cell_type": "code",
   "execution_count": null,
   "metadata": {},
   "outputs": [],
   "source": [
    "import pandas as pd"
   ]
  },
  {
   "cell_type": "markdown",
   "metadata": {},
   "source": [
    "#### Dimension Discounts"
   ]
  },
  {
   "cell_type": "code",
   "execution_count": null,
   "metadata": {},
   "outputs": [],
   "source": [
    "# Lit et affiche le contenu de l'ancien fichier discount.csv\n",
    "\n",
    "data = pd.read_csv('Old_Data/discounts.csv', sep=\",\")\n",
    "data.head()"
   ]
  },
  {
   "cell_type": "code",
   "execution_count": null,
   "metadata": {},
   "outputs": [],
   "source": [
    "# Récupération des champs utiles, suppression des doublons et génération de la clé primaire\n",
    "\n",
    "df_Discounts = data[['Start', 'End', 'Discont', 'Category', 'Sub Category']]    \n",
    "df_Discounts = df_Discounts.drop_duplicates()\n",
    "df_Discounts = df_Discounts.reset_index(drop=True)\n",
    "df_Discounts['Discount Key'] = df_Discounts.index +1"
   ]
  },
  {
   "cell_type": "code",
   "execution_count": null,
   "metadata": {},
   "outputs": [],
   "source": [
    "# Création d'une copie du Dataframe pour supprimer les champs inutiles\n",
    "\n",
    "df_Discounts_copy = df_Discounts.copy()\n",
    "df_Discounts_copy.drop(['Category','Sub Category'], axis=1, inplace=True)"
   ]
  },
  {
   "cell_type": "code",
   "execution_count": null,
   "metadata": {},
   "outputs": [],
   "source": [
    "# Affichage des données traitées\n",
    "\n",
    "df_Discounts_copy.head()"
   ]
  },
  {
   "cell_type": "code",
   "execution_count": null,
   "metadata": {},
   "outputs": [],
   "source": [
    "# Écriture des données traités dans un nouveau fichier discounts.csv\n",
    "\n",
    "df_Discounts_copy.to_csv(\"Data/discounts.csv\", index=False)"
   ]
  },
  {
   "cell_type": "markdown",
   "metadata": {},
   "source": [
    "#### Dimension Stores"
   ]
  },
  {
   "cell_type": "code",
   "execution_count": null,
   "metadata": {},
   "outputs": [],
   "source": [
    "# Lit et affiche le contenu de l'ancien fichier stores.csv\n",
    "\n",
    "data = pd.read_csv('Old_Data/stores.csv', sep=\",\")\n",
    "data.head()"
   ]
  },
  {
   "cell_type": "code",
   "execution_count": null,
   "metadata": {},
   "outputs": [],
   "source": [
    "# Récupération des champs utiles et suppression des doublons\n",
    "\n",
    "df_Stores = data[['Store ID', 'Store Name', 'City', 'Country', 'ZIP Code', 'Latitude', 'Longitude']]\n",
    "df_Stores = df_Stores.drop_duplicates()"
   ]
  },
  {
   "cell_type": "code",
   "execution_count": null,
   "metadata": {},
   "outputs": [],
   "source": [
    "# Affichage des données traitées\n",
    "\n",
    "df_Stores.head()"
   ]
  },
  {
   "cell_type": "code",
   "execution_count": null,
   "metadata": {},
   "outputs": [],
   "source": [
    "# Écriture des données traités dans un nouveau fichier stores.csv\n",
    "\n",
    "df_Stores.to_csv(\"Data/stores.csv\", index=False)"
   ]
  },
  {
   "cell_type": "markdown",
   "metadata": {},
   "source": [
    "#### Dimension Products"
   ]
  },
  {
   "cell_type": "code",
   "execution_count": null,
   "metadata": {},
   "outputs": [],
   "source": [
    "# Lit et affiche le contenu de l'ancien fichier products.csv\n",
    "\n",
    "data = pd.read_csv('Old_Data/products.csv', sep=\",\")\n",
    "data.head()"
   ]
  },
  {
   "cell_type": "code",
   "execution_count": null,
   "metadata": {},
   "outputs": [],
   "source": [
    "# Récupération des champs utiles et suppression des doublons\n",
    "\n",
    "df_Products = data[['Product ID','Category', 'Sub Category', 'Description FR', 'Sizes', 'Production Cost']]\n",
    "df_Products = df_Products.drop_duplicates()"
   ]
  },
  {
   "cell_type": "code",
   "execution_count": null,
   "metadata": {},
   "outputs": [],
   "source": [
    "# Affichage des données traitées\n",
    "\n",
    "df_Products.head()"
   ]
  },
  {
   "cell_type": "code",
   "execution_count": null,
   "metadata": {},
   "outputs": [],
   "source": [
    "# Écriture des données traités dans un nouveau fichier products.csv\n",
    "\n",
    "df_Products.to_csv(\"Data/products.csv\", index=False)"
   ]
  },
  {
   "cell_type": "markdown",
   "metadata": {},
   "source": [
    "#### Dimension Date"
   ]
  },
  {
   "cell_type": "code",
   "execution_count": null,
   "metadata": {},
   "outputs": [],
   "source": [
    "# Lit et affiche le contenu de l'ancien fichier transactions.csv\n",
    "\n",
    "data = pd.read_csv('Old_Data/transactions.csv', sep=\",\")\n",
    "data.head()"
   ]
  },
  {
   "cell_type": "code",
   "execution_count": null,
   "metadata": {},
   "outputs": [],
   "source": [
    "# Récupération de la date, suppression des doublons et génération de la clé primaire\n",
    "\n",
    "df_Date = data[['Date']] \n",
    "df_Date = df_Date.drop_duplicates()\n",
    "df_Date = df_Date.reset_index(drop=True)\n",
    "df_Date['Date Key'] = df_Date.index +1"
   ]
  },
  {
   "cell_type": "code",
   "execution_count": null,
   "metadata": {},
   "outputs": [],
   "source": [
    "# Affichage des données traitées\n",
    "\n",
    "df_Date.head()"
   ]
  },
  {
   "cell_type": "code",
   "execution_count": null,
   "metadata": {},
   "outputs": [],
   "source": [
    "# Écriture des données traités dans un nouveau fichier date.csv\n",
    "\n",
    "df_Date.to_csv(\"Data/date.csv\", index=False)"
   ]
  },
  {
   "cell_type": "markdown",
   "metadata": {},
   "source": [
    "#### Table de Fait"
   ]
  },
  {
   "cell_type": "code",
   "execution_count": null,
   "metadata": {},
   "outputs": [],
   "source": [
    "# Récupération des champs utiles et suppression des doublons\n",
    "\n",
    "df_Transactions = data[['Product ID', 'Store ID', 'Quantity', 'Unit Price', 'Line Total', 'Transaction Type', 'Invoice Total', 'Date']]    \n",
    "df_Transactions = df_Transactions.drop_duplicates()"
   ]
  },
  {
   "cell_type": "code",
   "execution_count": null,
   "metadata": {},
   "outputs": [],
   "source": [
    "# Affichage des données traitées\n",
    "\n",
    "df_Transactions.head()"
   ]
  },
  {
   "cell_type": "markdown",
   "metadata": {},
   "source": [
    "#### Réalisation des jointures"
   ]
  },
  {
   "cell_type": "code",
   "execution_count": null,
   "metadata": {},
   "outputs": [],
   "source": [
    "# Jointure des Dataframes Transactions et Date dans la Table de Jointure\n",
    "\n",
    "table_joint = pd.merge(df_Transactions, df_Date, on='Date', how='inner')\n",
    "table_joint.head()"
   ]
  },
  {
   "cell_type": "code",
   "execution_count": null,
   "metadata": {},
   "outputs": [],
   "source": [
    "# Jointure du DataFrame Products avec la table de Jointure et supression des champs inutiles\n",
    "\n",
    "table_joint2 = pd.merge(table_joint, df_Products, on='Product ID', how='inner')\n",
    "table_joint2.drop(['Description FR','Sizes', 'Production Cost'], axis=1, inplace=True)\n",
    "table_joint2.head()"
   ]
  },
  {
   "cell_type": "code",
   "execution_count": null,
   "metadata": {},
   "outputs": [],
   "source": [
    "# Jointure du DataFrame Discounts avec la table de Jointure\n",
    "# Éxécution longue (60s)\n",
    "\n",
    "table_joint3 = pd.merge(table_joint2, df_Discounts, on=['Category','Sub Category'], how='inner')\n",
    "table_joint3.head()"
   ]
  },
  {
   "cell_type": "code",
   "execution_count": null,
   "metadata": {},
   "outputs": [],
   "source": [
    "# Affichage de la taille de la table de Jointure\n",
    "\n",
    "table_joint3.shape"
   ]
  },
  {
   "cell_type": "code",
   "execution_count": null,
   "metadata": {},
   "outputs": [],
   "source": [
    "# Filtre du DataFrame de la table de Jointure pour ne garder que celle dont la date de la transaction appartient à la plage de la Promotion\n",
    "\n",
    "df_Transactions = table_joint3[\n",
    "    (table_joint3['Date'] >= table_joint3['Start']) &\n",
    "    (table_joint3['Date'] <= table_joint3['End'])\n",
    "]"
   ]
  },
  {
   "cell_type": "code",
   "execution_count": null,
   "metadata": {},
   "outputs": [],
   "source": [
    "# Suppression de tout les champs qui ne sont plus utiles dans la table de Fait et Création de la clé primaire\n",
    "\n",
    "df_Transactions.drop(['Date','Start', 'End', 'Discont', 'Category', 'Sub Category'], axis=1, inplace=True)\n",
    "df_Transactions = df_Transactions.reset_index(drop=True)\n",
    "df_Transactions['Transactions Key'] = df_Transactions.index +1\n",
    "df_Transactions.head()"
   ]
  },
  {
   "cell_type": "code",
   "execution_count": null,
   "metadata": {},
   "outputs": [],
   "source": [
    "# Affichage de la taille de la table de jointure pour constater la suppression de toute les lignes et colonnes inutiles\n",
    "\n",
    "df_Transactions.shape"
   ]
  },
  {
   "cell_type": "code",
   "execution_count": null,
   "metadata": {},
   "outputs": [],
   "source": [
    "# Écriture des données traités dans un nouveau fichier transactions.csv\n",
    "\n",
    "df_Transactions.to_csv(\"Data/transactions.csv\", index=False)"
   ]
  }
 ],
 "metadata": {
  "kernelspec": {
   "display_name": ".venv",
   "language": "python",
   "name": "python3"
  },
  "language_info": {
   "codemirror_mode": {
    "name": "ipython",
    "version": 3
   },
   "file_extension": ".py",
   "mimetype": "text/x-python",
   "name": "python",
   "nbconvert_exporter": "python",
   "pygments_lexer": "ipython3",
   "version": "3.11.9"
  }
 },
 "nbformat": 4,
 "nbformat_minor": 2
}
